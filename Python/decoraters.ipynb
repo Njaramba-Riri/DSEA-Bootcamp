{
 "cells": [
  {
   "attachments": {},
   "cell_type": "markdown",
   "metadata": {},
   "source": [
    "#### high-order functions and decoraters in python\n",
    "- functions as arguments"
   ]
  },
  {
   "cell_type": "code",
   "execution_count": 1,
   "metadata": {},
   "outputs": [
    {
     "name": "stdout",
     "output_type": "stream",
     "text": [
      "6\n"
     ]
    }
   ],
   "source": [
    "def summation(nums):#normal function\n",
    "    return sum(nums)\n",
    "\n",
    "def main(f,*args):#function as an argument\n",
    "    result=f(*args)\n",
    "    print(result)\n",
    "\n",
    "if __name__==\"__main__\":\n",
    "    main(summation,[1,2,3])#output 6"
   ]
  },
  {
   "attachments": {},
   "cell_type": "markdown",
   "metadata": {},
   "source": [
    "- the main fuction took in the summation fuction as an argument"
   ]
  },
  {
   "attachments": {},
   "cell_type": "markdown",
   "metadata": {},
   "source": [
    "#### Having function as areturn value"
   ]
  },
  {
   "cell_type": "code",
   "execution_count": 2,
   "metadata": {},
   "outputs": [
    {
     "name": "stdout",
     "output_type": "stream",
     "text": [
      "<function add_three_nums at 0x0000020C244A9430>\n",
      "6\n"
     ]
    }
   ],
   "source": [
    "def add_two_nums(x,y):#normal function that returns data\n",
    "    return x+y\n",
    "\n",
    "def add_three_nums(x,y,z):#normal function that returns data\n",
    "    return x+y+z\n",
    "\n",
    "def get_appropriate_func(num_len):#functio that returns functions depending on the logic\n",
    "    if num_len==3:\n",
    "        return add_three_nums\n",
    "    else:\n",
    "        return add_two_nums\n",
    "\n",
    "if __name__=='__main__':\n",
    "    args=[1,2,3]\n",
    "    num_len=len(args)\n",
    "    res_func=get_appropriate_func(num_len)\n",
    "    print(res_func) \n",
    "    print(res_func(*args))#unpack the args, output 6\n"
   ]
  },
  {
   "attachments": {},
   "cell_type": "markdown",
   "metadata": {},
   "source": [
    "#### Python Closures"
   ]
  },
  {
   "cell_type": "code",
   "execution_count": 3,
   "metadata": {},
   "outputs": [
    {
     "name": "stdout",
     "output_type": "stream",
     "text": [
      "6\n",
      "7\n"
     ]
    }
   ],
   "source": [
    "#Aclosure is just a way of keeping alive a variable even when the function has returned, technically a function is defined along with the environment\n",
    "\n",
    "def add_5():\n",
    "    five=5\n",
    "\n",
    "    def add(arg): #nesting function\n",
    "        return arg+5\n",
    "    return add\n",
    "\n",
    "if __name__=='__main__':\n",
    "    closure1=add_5()\n",
    "    print(closure1(1))#output 6\n",
    "    print(closure1(2))#output 7\n"
   ]
  },
  {
   "attachments": {},
   "cell_type": "markdown",
   "metadata": {},
   "source": [
    "#### Python Decorators\n",
    "- These are just convenient ways to make changes to the functionality of code without making changes to the code."
   ]
  },
  {
   "cell_type": "code",
   "execution_count": 7,
   "metadata": {},
   "outputs": [],
   "source": [
    "#How it looks like\n",
    "def my_decorator(f):\n",
    "    #write your code/wrapping function here\n",
    "    #return the wrapping function\n",
    "    pass\n",
    "\n",
    "@my_decorator\n",
    "def my_code(args):\n",
    "    #original functionality\n",
    "    pass\n",
    "\n",
    "my_code"
   ]
  },
  {
   "cell_type": "code",
   "execution_count": 8,
   "metadata": {},
   "outputs": [
    {
     "name": "stdout",
     "output_type": "stream",
     "text": [
      "{'lang': 'python'}\n"
     ]
    },
    {
     "data": {
      "text/plain": [
       "{'lang': 'python'}"
      ]
     },
     "execution_count": 8,
     "metadata": {},
     "output_type": "execute_result"
    }
   ],
   "source": [
    "#nitty-gritty\n",
    "\n",
    "def my_code(args):\n",
    "    return{\"lang\": args}\n",
    "\n",
    "print(my_code(\"python\"))\n",
    "{'lang':'python'}"
   ]
  },
  {
   "cell_type": "code",
   "execution_count": 9,
   "metadata": {},
   "outputs": [
    {
     "name": "stdout",
     "output_type": "stream",
     "text": [
      "Checked that the return value is dict\n",
      "{'lang': 'python'}\n"
     ]
    }
   ],
   "source": [
    "#Say, you want to build the additional functionality of checking if the return value is a dict. In this case, you can use a decorator.\n",
    "def check(f):\n",
    "    def wrapper(*args,**kwargs):\n",
    "        res=f(*args,**kwargs)\n",
    "        if isinstance(res,dict):\n",
    "            print(\"Checked that the return value is dict\")\n",
    "            return res\n",
    "    return wrapper\n",
    "\n",
    "@check \n",
    "def my_code(args):\n",
    "    return{\"lang\":args}\n",
    "\n",
    "print(my_code(\"python\"))\n"
   ]
  },
  {
   "attachments": {},
   "cell_type": "markdown",
   "metadata": {},
   "source": [
    "- here function “check” is used as a decorator, and it enforces the additional functionality of checking if the return of the function ”my_code” is a decorator or not."
   ]
  },
  {
   "cell_type": "markdown",
   "metadata": {},
   "source": []
  }
 ],
 "metadata": {
  "kernelspec": {
   "display_name": "Python 3",
   "language": "python",
   "name": "python3"
  },
  "language_info": {
   "codemirror_mode": {
    "name": "ipython",
    "version": 3
   },
   "file_extension": ".py",
   "mimetype": "text/x-python",
   "name": "python",
   "nbconvert_exporter": "python",
   "pygments_lexer": "ipython3",
   "version": "3.9.1"
  },
  "orig_nbformat": 4,
  "vscode": {
   "interpreter": {
    "hash": "cf92aa13fedf815d5c8dd192b8d835913fde3e8bc926b2a0ad6cc74ef2ba3ca2"
   }
  }
 },
 "nbformat": 4,
 "nbformat_minor": 2
}
