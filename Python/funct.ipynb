{
 "cells": [
  {
   "attachments": {},
   "cell_type": "markdown",
   "metadata": {},
   "source": [
    "#### Python functional programming"
   ]
  },
  {
   "cell_type": "markdown",
   "metadata": {},
   "source": [
    "- Functions as first class objects in python"
   ]
  },
  {
   "cell_type": "code",
   "execution_count": null,
   "metadata": {},
   "outputs": [],
   "source": [
    "list(map(int,[\"1\",\"2\",\"3\"]))#here you pass int function as a parameter to map function"
   ]
  },
  {
   "cell_type": "code",
   "execution_count": null,
   "metadata": {},
   "outputs": [],
   "source": [
    "#assign the function hello_world, and then the variable will be executed as a function.\n",
    "def hello_world(h):\n",
    "    def world(w):\n",
    "        print(h,w)\n",
    "    return world #returning functions\n",
    "\n",
    "h=hello_world()#assigning\n",
    "x=h(\"hello\")#assigning\n",
    "x\n",
    "\n",
    "x(\"world\")"
   ]
  },
  {
   "cell_type": "code",
   "execution_count": null,
   "metadata": {},
   "outputs": [],
   "source": [
    "#you can as well store functions in various data structure\n",
    "function_list=[h,x]\n",
    "function_list"
   ]
  },
  {
   "cell_type": "markdown",
   "metadata": {},
   "source": [
    "- python functional purity"
   ]
  },
  {
   "cell_type": "code",
   "execution_count": null,
   "metadata": {},
   "outputs": [],
   "source": [
    "def naive_sum(list):\n",
    "    s=0\n",
    "    for i in list:\n",
    "        s+=i\n",
    "    return s"
   ]
  },
  {
   "cell_type": "code",
   "execution_count": null,
   "metadata": {},
   "outputs": [],
   "source": [
    "#can be replaced by\n",
    "sum(list)"
   ]
  },
  {
   "attachments": {},
   "cell_type": "markdown",
   "metadata": {},
   "source": [
    "- Reducing the usage of loops in python"
   ]
  },
  {
   "cell_type": "code",
   "execution_count": null,
   "metadata": {},
   "outputs": [],
   "source": [
    "for x in i:\n",
    "    func(x)\n",
    "\n",
    "#you can change that to this: -\n",
    "map(func,1)#map the function to the list"
   ]
  },
  {
   "cell_type": "code",
   "execution_count": null,
   "metadata": {},
   "outputs": [],
   "source": [
    "#in sequential execution of functions you get the following construct\n",
    "def func1():\n",
    "    pass\n",
    "\n",
    "def func2():\n",
    "    pass\n",
    "\n",
    "def func3():\n",
    "    pass\n",
    "\n",
    "executing=lambda f: f()\n",
    "map(executing,[func1,func2,func3])"
   ]
  },
  {
   "attachments": {},
   "cell_type": "markdown",
   "metadata": {},
   "source": [
    "- note that this does not actually run the functions but returns a lazy map object. You need to pass this object to a list or any other eager function to have the code executed."
   ]
  },
  {
   "attachments": {},
   "cell_type": "markdown",
   "metadata": {},
   "source": [
    "#### Python Recursion\n",
    "- this is a method of breaking a problem into subproblems which are essentially of the same type as the original problem"
   ]
  },
  {
   "cell_type": "code",
   "execution_count": null,
   "metadata": {},
   "outputs": [],
   "source": [
    "def fib(n):\n",
    "    if n==0:return 0 \n",
    "    elfif n==1: return 1\n",
    "    else: return fib(n-1)+fib(n-2)"
   ]
  },
  {
   "attachments": {},
   "cell_type": "markdown",
   "metadata": {},
   "source": [
    "- procedural to function>>"
   ]
  },
  {
   "cell_type": "code",
   "execution_count": null,
   "metadata": {},
   "outputs": [],
   "source": [
    "#procedural code\n",
    "starting_no=96\n",
    "\n",
    "#get the square\n",
    "square=starting_no**2\n",
    "\n",
    "#increment the no by 1\n",
    "increment=square+1\n",
    "\n",
    "#cube of the number\n",
    "cube=increment**3\n",
    "\n",
    "#decreease the no by 1\n",
    "decrement=cube-1\n",
    "\n",
    "#get the final result\n",
    "result=print(decrement)"
   ]
  },
  {
   "cell_type": "markdown",
   "metadata": {},
   "source": [
    "- the same code can be writen functionally"
   ]
  },
  {
   "cell_type": "code",
   "execution_count": null,
   "metadata": {},
   "outputs": [],
   "source": [
    "#define a func `call` where you provide the func and args\n",
    "def call(x,f):\n",
    "    return f(x)\n",
    "\n",
    "#define a func that returns a square\n",
    "square=lambda x:x*x\n",
    "\n",
    "#define a func that returns increment\n",
    "increment=lambda x:x+1\n",
    "\n",
    "#a func that returns the cube\n",
    "cube=lambda x:x*x*x\n",
    "\n",
    "#a func that returns the decrement\n",
    "decrement= lambda x:x-1\n",
    "\n",
    "#put the funcs in a list in the order that you want to execute them\n",
    "funcs=[square,increment,cube,decrement]\n",
    "\n",
    "#the non-func part, bring it all together\n",
    "#in func programming, you separate functional and non func parts\n",
    "from functools import reduce #reduce is in functools library\n",
    "print(reduce(call,funcs,96))"
   ]
  }
 ],
 "metadata": {
  "kernelspec": {
   "display_name": "Python 3",
   "language": "python",
   "name": "python3"
  },
  "language_info": {
   "name": "python",
   "version": "3.9.1"
  },
  "orig_nbformat": 4,
  "vscode": {
   "interpreter": {
    "hash": "cf92aa13fedf815d5c8dd192b8d835913fde3e8bc926b2a0ad6cc74ef2ba3ca2"
   }
  }
 },
 "nbformat": 4,
 "nbformat_minor": 2
}
