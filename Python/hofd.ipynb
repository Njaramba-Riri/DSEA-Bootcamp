#high-order functions and decoraters in python
#functions as arguments
def summation(nums):#normal function
    return sum(nums)

def main(f,*args):#function as an argument
    result=f(*args)
    print(result)

if __name__=="__main__":
    main(summation,[1,2,3])#output 6
    