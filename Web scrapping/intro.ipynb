{
 "cells": [
  {
   "attachments": {},
   "cell_type": "markdown",
   "metadata": {},
   "source": [
    "Scrapping is technically a process of extracting data from websites"
   ]
  },
  {
   "cell_type": "code",
   "execution_count": null,
   "metadata": {},
   "outputs": [
    {
     "ename": "",
     "evalue": "",
     "output_type": "error",
     "traceback": [
      "\u001b[1;31mRunning cells with 'base' requires the ipykernel package.\n",
      "\u001b[1;31mRun the following command to install 'ipykernel' into the Python environment. \n",
      "\u001b[1;31mCommand: 'conda install -n base ipykernel --update-deps --force-reinstall'"
     ]
    }
   ],
   "source": [
    "#import the necessary libraries\n",
    "import requests\n",
    "from bs4 import BeatifulSoup"
   ]
  },
  {
   "cell_type": "code",
   "execution_count": null,
   "metadata": {},
   "outputs": [],
   "source": [
    "#use the requests library to retrieve the html content of the website\n",
    "url='https://www.imdb.com/chart/top'\n",
    "response=requests.get(url)\n",
    "html_content=response.content"
   ]
  },
  {
   "cell_type": "code",
   "execution_count": null,
   "metadata": {},
   "outputs": [],
   "source": [
    "#use the beatifulsoup library to parse the HTML content and extract the data yoyu need. In this case, it's title,year and the movie rating\n",
    "soup=BeatifulSoup(html_content,'html.parser')\n",
    "movies=[]\n",
    "\n",
    "for row in soup.select('table.chart tbody tr'):\n",
    "    title=row.select_one('.titleColumn a').text\n",
    "    year=row.select_one('.titleColumn span.secondaryInfo').text\n",
    "    rating=row.select_one('.imbdRating strong').text\n",
    "    movies.append((title,year,rating))\n"
   ]
  },
  {
   "cell_type": "code",
   "execution_count": null,
   "metadata": {},
   "outputs": [],
   "source": [
    "#print the list now\n",
    "for movie in movies:\n",
    "    print(movie)"
   ]
  },
  {
   "attachments": {},
   "cell_type": "markdown",
   "metadata": {},
   "source": [
    "- save the file and run it from the terminal using\n",
    "`python filename.py`"
   ]
  },
  {
   "cell_type": "code",
   "execution_count": null,
   "metadata": {},
   "outputs": [],
   "source": []
  }
 ],
 "metadata": {
  "kernelspec": {
   "display_name": "base",
   "language": "python",
   "name": "python3"
  },
  "language_info": {
   "name": "python",
   "version": "3.9.13"
  },
  "orig_nbformat": 4,
  "vscode": {
   "interpreter": {
    "hash": "f08154012ddadd8e950e6e9e035c7a7b32c136e7647e9b7c77e02eb723a8bedb"
   }
  }
 },
 "nbformat": 4,
 "nbformat_minor": 2
}
